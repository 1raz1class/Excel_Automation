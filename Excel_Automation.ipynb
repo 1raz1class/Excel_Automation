{
 "cells": [
  {
   "cell_type": "raw",
   "id": "5efe0282-7b08-4ece-a230-d87d4c5f591c",
   "metadata": {},
   "source": [
    "Libraries"
   ]
  },
  {
   "cell_type": "code",
   "execution_count": 1,
   "id": "093cfa30-0d9e-4eb8-a24f-6dfcbec73437",
   "metadata": {},
   "outputs": [],
   "source": [
    "# convert the cell from \"Raw\" mode in \"Code\" mode if necessary\n",
    "import os\n",
    "import pandas as pd\n",
    "import numpy as np\n",
    "from datetime import datetime\n",
    "\n",
    "import xlrd\n",
    "import xlwings as xw\n",
    "import glob\n",
    "from pathlib import Path\n",
    "\n",
    "import warnings\n",
    "warnings.filterwarnings(\"ignore\")\n",
    "\n",
    "\n",
    "import re\n",
    "import itertools\n"
   ]
  },
  {
   "cell_type": "code",
   "execution_count": 2,
   "id": "2fac229d-b241-49af-b234-72ec997a85b0",
   "metadata": {},
   "outputs": [],
   "source": [
    "import openpyxl\n",
    "# Import `load_workbook` module from `openpyxl`\n",
    "from openpyxl import load_workbook\n",
    "from openpyxl.utils import get_column_interval"
   ]
  },
  {
   "cell_type": "code",
   "execution_count": 3,
   "id": "b488ff5f-957e-4b0d-a4de-e6dee4e03219",
   "metadata": {},
   "outputs": [],
   "source": [
    "\n",
    "import xlsxwriter\n",
    "from xlsxwriter.utility import xl_rowcol_to_cell\n",
    "from xlsxwriter.utility import xl_col_to_name\n",
    "from xlsxwriter.utility import xl_range, xl_range_abs"
   ]
  },
  {
   "cell_type": "raw",
   "id": "7f635b9e-973a-4669-97b0-337463684e3b",
   "metadata": {},
   "source": [
    "!pip3 install openpyxl --upgrade\n",
    "!pip3 install --user xlsxwriter"
   ]
  },
  {
   "cell_type": "code",
   "execution_count": null,
   "id": "6a7ae5eb-449d-4c83-95ab-f52f7940655b",
   "metadata": {},
   "outputs": [],
   "source": []
  },
  {
   "cell_type": "raw",
   "id": "5ab9d0ba-aca4-4916-b0a6-f2ff87ff8d46",
   "metadata": {},
   "source": []
  },
  {
   "cell_type": "code",
   "execution_count": 4,
   "id": "ab227591-e3d3-461e-b221-a63ee0f4dcbc",
   "metadata": {},
   "outputs": [
    {
     "data": {
      "text/plain": [
       "'C:\\\\Users\\\\Cristina\\\\OneDrive\\\\Documents\\\\Excel_Automation'"
      ]
     },
     "execution_count": 4,
     "metadata": {},
     "output_type": "execute_result"
    }
   ],
   "source": [
    "# Retrieve current working directory (`cwd`)\n",
    "cwd = os.getcwd()\n",
    "cwd"
   ]
  },
  {
   "cell_type": "code",
   "execution_count": 5,
   "id": "a82cc9ed-247f-4152-9412-afade006b4b9",
   "metadata": {},
   "outputs": [
    {
     "data": {
      "text/plain": [
       "['.ipynb_checkpoints',\n",
       " 'Consolidation_v5.ipynb',\n",
       " 'Excel_Automation.ipynb',\n",
       " 'Formating_v3.ipynb',\n",
       " 'HR.xlsx',\n",
       " 'HR_April_FR.xlsx',\n",
       " 'HR_August_FR.xlsx',\n",
       " 'HR_DE.xlsx',\n",
       " 'HR_May_FR.xlsx',\n",
       " 'HR_UK.xlsx',\n",
       " 'Template.xlsx']"
      ]
     },
     "execution_count": 5,
     "metadata": {},
     "output_type": "execute_result"
    }
   ],
   "source": [
    "# List all files and directories in current directory\n",
    "os.listdir('.')"
   ]
  },
  {
   "cell_type": "markdown",
   "id": "d1acebce-6dcd-4cb8-8f5e-8caa12d427e0",
   "metadata": {},
   "source": [
    "## Load excels"
   ]
  },
  {
   "cell_type": "code",
   "execution_count": 10,
   "id": "a691c358-1bb3-4f17-9203-1cc26ab14352",
   "metadata": {},
   "outputs": [
    {
     "name": "stdout",
     "output_type": "stream",
     "text": [
      "Number of files:  2\n",
      "['/home/e57658/workspace/Excel_Automation/HR_April_FR.xlsx', '/home/e57658/workspace/Excel_Automation/HR_May_FR.xlsx']\n"
     ]
    }
   ],
   "source": [
    "# create list of raw files\n",
    "\n",
    "# Your current directory (including python script & all excel files)\n",
    "mydir = cwd.replace('\\\\','/') + '/' # replace os.getcwd()  ==> '/home/e57658/workspace/Excel_Automation/'\n",
    "\n",
    "#Get all excel files include subdir\n",
    "excel_files=[]\n",
    "for path, subdirs, files in os.walk(mydir):\n",
    "    for file in files:\n",
    "        if (file.endswith('.xlsx') or file.endswith('.xls') or file.endswith('.XLS')):\n",
    "            excel_files.append(os.path.join(path, file))\n",
    "number_of_files=len(excel_files)\n",
    "print('Number of files: ', number_of_files)\n",
    "# list of only xlsx files \n",
    "\n",
    "print(excel_files)"
   ]
  },
  {
   "cell_type": "markdown",
   "id": "e0d94aa7-338e-4c0d-b5ed-2c410071998f",
   "metadata": {},
   "source": [
    "Concatenate all excels into one df"
   ]
  },
  {
   "cell_type": "code",
   "execution_count": 14,
   "id": "faa76402-b45e-484c-9972-a9e74ba20300",
   "metadata": {},
   "outputs": [],
   "source": [
    "# Create concatenated df\n",
    "\n",
    "reports = []\n",
    "wbs = []\n",
    "i= 0\n",
    "dfs = pd.DataFrame()\n",
    "df_list = [] \n",
    "\n",
    "for excel_file in excel_files:    # identify all excels\n",
    "    report = excel_file.replace(\"/home/e57658/workspace/Excel_Automation/HR_ \", \"\")\n",
    "    report = report.replace(\".xlsx\",\"\")\n",
    "    reports.append(report)\n",
    "    for wb in excel_files: \n",
    "        wb = load_workbook(filename=excel_file, read_only=True, data_only =True)\n",
    "        wbs.append(wb)\n",
    "        for i in range(len(wbs)):\n",
    "            for name in wbs[i].sheetnames:\n",
    "                if name== 'Sheet1':\n",
    "                    sheet = wb['Sheet1']\n",
    "                    df = pd.DataFrame(sheet.values)\n",
    "                    df['Report'] = report\n",
    "                    dfs = dfs.append(df)"
   ]
  },
  {
   "cell_type": "code",
   "execution_count": 16,
   "id": "febd1328-0919-4fb8-bf35-bafb1fc0828b",
   "metadata": {},
   "outputs": [
    {
     "data": {
      "text/plain": [
       "'/home/e57658/workspace/Excel_Automation/HR_May_FR.xlsx'"
      ]
     },
     "execution_count": 16,
     "metadata": {},
     "output_type": "execute_result"
    }
   ],
   "source": [
    "excel_file.replace(\"/home/e57658/workspace/Excel_Automation/HR_ \", \"\")"
   ]
  },
  {
   "cell_type": "code",
   "execution_count": null,
   "id": "ac7eb991-b1c4-4ead-bacb-f53b4beb860d",
   "metadata": {},
   "outputs": [],
   "source": []
  }
 ],
 "metadata": {
  "kernelspec": {
   "display_name": "Python 3",
   "language": "python",
   "name": "python3"
  },
  "language_info": {
   "codemirror_mode": {
    "name": "ipython",
    "version": 3
   },
   "file_extension": ".py",
   "mimetype": "text/x-python",
   "name": "python",
   "nbconvert_exporter": "python",
   "pygments_lexer": "ipython3",
   "version": "3.7.15"
  }
 },
 "nbformat": 4,
 "nbformat_minor": 5
}
