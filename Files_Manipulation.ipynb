{
 "cells": [
  {
   "cell_type": "markdown",
   "id": "cbaf044b",
   "metadata": {},
   "source": [
    "## Libraries"
   ]
  },
  {
   "cell_type": "code",
   "execution_count": 9,
   "id": "dbfa32f8",
   "metadata": {},
   "outputs": [],
   "source": [
    "import os\n",
    "import glob\n",
    "#import pandas as pd\n",
    "import shutil"
   ]
  },
  {
   "cell_type": "code",
   "execution_count": 2,
   "id": "018f3ba0",
   "metadata": {},
   "outputs": [],
   "source": [
    "# set visible all columns\n",
    "pd.set_option('display.max_columns', None)"
   ]
  },
  {
   "cell_type": "markdown",
   "id": "a3ef2e16",
   "metadata": {},
   "source": [
    "# Path"
   ]
  },
  {
   "cell_type": "code",
   "execution_count": 3,
   "id": "dfcf9fa5",
   "metadata": {},
   "outputs": [
    {
     "data": {
      "text/plain": [
       "'C:\\\\Users\\\\Cristina\\\\OneDrive\\\\Documents\\\\Excel_Automation'"
      ]
     },
     "execution_count": 3,
     "metadata": {},
     "output_type": "execute_result"
    }
   ],
   "source": [
    "os.getcwd() # get current working directory"
   ]
  },
  {
   "cell_type": "code",
   "execution_count": 4,
   "id": "ead6021b",
   "metadata": {},
   "outputs": [
    {
     "data": {
      "text/plain": [
       "'C:\\\\Users\\\\Cristina\\\\OneDrive\\\\Documents\\\\Excel_Automation'"
      ]
     },
     "execution_count": 4,
     "metadata": {},
     "output_type": "execute_result"
    }
   ],
   "source": [
    "# assing current working directory (`cwd`)\n",
    "cwd = os.getcwd()\n",
    "cwd"
   ]
  },
  {
   "cell_type": "code",
   "execution_count": 5,
   "id": "5c342a47",
   "metadata": {},
   "outputs": [
    {
     "data": {
      "text/plain": [
       "['.ipynb_checkpoints',\n",
       " 'Basics.ipynb',\n",
       " 'Budget.xlsx',\n",
       " 'Budget_raw.xlsx',\n",
       " 'Budget_template.xlsx',\n",
       " 'Consolidation_HR',\n",
       " 'Consolidation_v5.ipynb',\n",
       " 'Costs.xlsx',\n",
       " 'Costs_raw.xlsx',\n",
       " 'Excel_Automation.ipynb',\n",
       " 'Files_Manipulation.ipynb',\n",
       " 'Formating_v3.ipynb',\n",
       " 'Groceries.xlsx',\n",
       " 'Groceries_1.xlsx',\n",
       " 'Groceries_Formated.xlsx',\n",
       " 'HR.xlsx',\n",
       " 'HR_April_FR.xlsx',\n",
       " 'HR_August_FR.xlsx',\n",
       " 'HR_DE.xlsx',\n",
       " 'HR_May_FR.xlsx',\n",
       " 'HR_UK.xlsx',\n",
       " 'Python_labs',\n",
       " 'Template.xlsx',\n",
       " 'Untitled.ipynb',\n",
       " 'W03_Challenge.xlsx',\n",
       " 'W04-Challenge.xlsx',\n",
       " 'W06-Challenge-1.xlsx',\n",
       " 'W06-workbook.xlsx']"
      ]
     },
     "execution_count": 5,
     "metadata": {},
     "output_type": "execute_result"
    }
   ],
   "source": [
    "# List all files and directories in current directory\n",
    "os.listdir('.')"
   ]
  },
  {
   "cell_type": "code",
   "execution_count": 6,
   "id": "f8d76f73",
   "metadata": {},
   "outputs": [
    {
     "data": {
      "text/plain": [
       "'C:\\\\Users\\\\Cristina\\\\OneDrive\\\\Documents\\\\Excel_Automation\\\\Consolidation_HR'"
      ]
     },
     "execution_count": 6,
     "metadata": {},
     "output_type": "execute_result"
    }
   ],
   "source": [
    "# path to our file\n",
    "\n",
    "folder = 'Consolidation_HR'\n",
    "path = cwd + '\\\\' + folder\n",
    "path"
   ]
  },
  {
   "cell_type": "code",
   "execution_count": 7,
   "id": "61cffd35",
   "metadata": {},
   "outputs": [
    {
     "data": {
      "text/plain": [
       "['.ipynb_checkpoints',\n",
       " 'Consolidated.xlsx',\n",
       " 'Consolidated_1.xlsx',\n",
       " 'consolidated_by_sheet.xlsx',\n",
       " 'DE.xlsx',\n",
       " 'FR.xlsx',\n",
       " 'UK.xlsx']"
      ]
     },
     "execution_count": 7,
     "metadata": {},
     "output_type": "execute_result"
    }
   ],
   "source": [
    "# check files in the foler\n",
    "os.listdir(folder)"
   ]
  },
  {
   "cell_type": "code",
   "execution_count": 8,
   "id": "56851651",
   "metadata": {},
   "outputs": [
    {
     "name": "stdout",
     "output_type": "stream",
     "text": [
      "File names with their paths: ['C:\\\\Users\\\\Cristina\\\\OneDrive\\\\Documents\\\\Excel_Automation\\\\Consolidation_HR\\\\Consolidated.xlsx', 'C:\\\\Users\\\\Cristina\\\\OneDrive\\\\Documents\\\\Excel_Automation\\\\Consolidation_HR\\\\Consolidated_1.xlsx', 'C:\\\\Users\\\\Cristina\\\\OneDrive\\\\Documents\\\\Excel_Automation\\\\Consolidation_HR\\\\consolidated_by_sheet.xlsx', 'C:\\\\Users\\\\Cristina\\\\OneDrive\\\\Documents\\\\Excel_Automation\\\\Consolidation_HR\\\\DE.xlsx', 'C:\\\\Users\\\\Cristina\\\\OneDrive\\\\Documents\\\\Excel_Automation\\\\Consolidation_HR\\\\FR.xlsx', 'C:\\\\Users\\\\Cristina\\\\OneDrive\\\\Documents\\\\Excel_Automation\\\\Consolidation_HR\\\\UK.xlsx']\n"
     ]
    }
   ],
   "source": [
    "# read all the files with extension .xlsx i.e. excel \n",
    "filenames = glob.glob(path + \"\\*.xlsx\")\n",
    "print('File names with their paths:', filenames)"
   ]
  },
  {
   "cell_type": "markdown",
   "id": "691fbb8d",
   "metadata": {},
   "source": [
    "# Create new folder"
   ]
  },
  {
   "cell_type": "code",
   "execution_count": null,
   "id": "cc40b400",
   "metadata": {},
   "outputs": [],
   "source": [
    "# path to the directory\n",
    "fold = cwd + '\\\\' + 'New_Folder'\n",
    "# create directory\n",
    "os.makedirs(fold)"
   ]
  },
  {
   "cell_type": "code",
   "execution_count": null,
   "id": "88ece4d2",
   "metadata": {},
   "outputs": [],
   "source": [
    "# Create a folder in the folder\n",
    "other = cwd + '\\\\' + 'other_Folder' + '\\\\' +'Inner_folder' \n",
    "os.makedirs(other)\n",
    "other"
   ]
  },
  {
   "cell_type": "raw",
   "id": "8661481b",
   "metadata": {},
   "source": [
    "Copy files and folders of excels with everithing in it"
   ]
  },
  {
   "cell_type": "code",
   "execution_count": null,
   "id": "6dfaf427",
   "metadata": {},
   "outputs": [],
   "source": [
    "# create the folder where to paste files\n",
    "des= 'C:\\\\Users\\\\Cristina\\\\Documents'\n",
    "des = des + '\\\\' + 'Excel_Automation_Module'\n",
    "os.makedirs(des)"
   ]
  },
  {
   "cell_type": "code",
   "execution_count": null,
   "id": "b8a08724",
   "metadata": {},
   "outputs": [],
   "source": [
    "# create the folder where to paste files\n",
    "des= 'C:\\\\Users\\\\Cristina\\\\Documents'\n",
    "des = des + '\\\\' + 'Excel_Automation_Module'\n",
    "os.makedirs(des)\n",
    "\n",
    "# copy file\n",
    "src='C:\\\\Users\\\\Cristina\\\\OneDrive\\\\Documents\\\\Excel_Automation\\Budget_template.xlsx'\n",
    "des='C:\\\\Users\\\\Cristina\\\\Documents\\\\Excel_Automation_Module'\n",
    "\n",
    "shutil.copy(src,des)"
   ]
  },
  {
   "cell_type": "code",
   "execution_count": null,
   "id": "21a54c34",
   "metadata": {},
   "outputs": [],
   "source": [
    "# copy folder with all files in it \n",
    "\n",
    "src='C:\\\\Users\\\\Cristina\\\\OneDrive\\\\Documents\\\\Excel_Automation'\n",
    "des='C:\\\\Users\\\\Cristina\\\\Documents\\\\Excel_Automation_Module_test'\n",
    "\n",
    "shutil.copytree(src,des)"
   ]
  },
  {
   "cell_type": "raw",
   "id": "576fbde3",
   "metadata": {},
   "source": [
    "Move files"
   ]
  },
  {
   "cell_type": "code",
   "execution_count": null,
   "id": "e64241e5",
   "metadata": {},
   "outputs": [],
   "source": [
    "shutil.move('C:\\\\Users\\\\Cristina\\\\Documents\\\\Python_labs',\n",
    "           'C:\\\\Users\\\\Cristina\\\\OneDrive\\\\Documents\\\\Excel_Automation')"
   ]
  },
  {
   "cell_type": "raw",
   "id": "eb0e436f",
   "metadata": {},
   "source": [
    "Delete files"
   ]
  },
  {
   "cell_type": "code",
   "execution_count": null,
   "id": "404b41c6",
   "metadata": {},
   "outputs": [],
   "source": [
    "# delete a file\n",
    "os.unlink('C:\\\\Users\\\\Cristina\\\\OneDrive\\\\Documents\\\\Excel_Automation\\\\Budget_1.xlsx')"
   ]
  },
  {
   "cell_type": "code",
   "execution_count": null,
   "id": "a79a4930",
   "metadata": {},
   "outputs": [],
   "source": [
    "# delete empty folder\n",
    "os.rmdir('C:\\\\Users\\Cristina\\\\OneDrive\\\\Documents\\\\Excel_Automation\\\\New_Folder')"
   ]
  },
  {
   "cell_type": "code",
   "execution_count": null,
   "id": "4c1acef4",
   "metadata": {},
   "outputs": [],
   "source": [
    "# delete NOT empty folder\n",
    "\n",
    "shutil.rmtree(r'C:\\Users\\Cristina\\OneDrive\\Documents\\Excel_Automation\\other_Folder')"
   ]
  },
  {
   "cell_type": "markdown",
   "id": "21c81614",
   "metadata": {},
   "source": [
    "### Search excel files"
   ]
  },
  {
   "cell_type": "code",
   "execution_count": null,
   "id": "eda16ddd",
   "metadata": {},
   "outputs": [],
   "source": [
    "# list of all excel files in the working directory\n",
    "excel_files=[]\n",
    "for file in os.listdir(cwd):\n",
    "    if file.endswith('.xlsx'):\n",
    "            excel_files.append(file)\n",
    "            \n",
    "print( 'there are', len(excel_files), \" excel files\")"
   ]
  }
 ],
 "metadata": {
  "kernelspec": {
   "display_name": "Python 3",
   "language": "python",
   "name": "python3"
  },
  "language_info": {
   "codemirror_mode": {
    "name": "ipython",
    "version": 3
   },
   "file_extension": ".py",
   "mimetype": "text/x-python",
   "name": "python",
   "nbconvert_exporter": "python",
   "pygments_lexer": "ipython3",
   "version": "3.7.15"
  }
 },
 "nbformat": 4,
 "nbformat_minor": 5
}
